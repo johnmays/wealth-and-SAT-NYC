{
 "cells": [
  {
   "cell_type": "code",
   "execution_count": null,
   "metadata": {},
   "outputs": [],
   "source": [
    "fig, ax = plt.subplots(1, figsize = (8, 6))\n",
    "# ax.xaxis.set_major_formatter(mpl.ticker.StrMethodFormatter('${x:,.0f}'))\n",
    "ax.scatter(total_df['SALE PRICE'], total_df['SAT Score Mean'], color=inferno(0.3), alpha = 0.5)\n",
    "plt.ylabel('Mean SAT Score')\n",
    "plt.xlabel('Median Sale Price')\n",
    "plt.xscale('log')\n",
    "ticks = [1.e+05, 2.5e+05, 5.e+05, 1.e+06, 2.5e+06]\n",
    "plt.xticks(ticks = ticks, labels=map(lambda x: f'${x:,.0f}', ticks))\n",
    "plt.title('Median Housing Price vs. Mean SAT Score by ZIP Code')\n",
    "plt.show();"
   ]
  }
 ],
 "metadata": {
  "kernelspec": {
   "display_name": "venv",
   "language": "python",
   "name": "python3"
  },
  "language_info": {
   "codemirror_mode": {
    "name": "ipython",
    "version": 3
   },
   "file_extension": ".py",
   "mimetype": "text/x-python",
   "name": "python",
   "nbconvert_exporter": "python",
   "pygments_lexer": "ipython3",
   "version": "2.7.0"
  }
 },
 "nbformat": 4,
 "nbformat_minor": 2
}
